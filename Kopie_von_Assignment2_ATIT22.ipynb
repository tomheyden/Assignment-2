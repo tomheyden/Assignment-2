{
  "nbformat": 4,
  "nbformat_minor": 0,
  "metadata": {
    "colab": {
      "provenance": [],
      "include_colab_link": true
    },
    "interpreter": {
      "hash": "42db2df048a857b67bc17d304ffcdd40dce6b5ec7644d3f3f3a44d8704f16b2a"
    },
    "kernelspec": {
      "display_name": "Python 3.6.10 64-bit ('py36': conda)",
      "name": "python3"
    },
    "language_info": {
      "codemirror_mode": {
        "name": "ipython",
        "version": 3
      },
      "file_extension": ".py",
      "mimetype": "text/x-python",
      "name": "python",
      "nbconvert_exporter": "python",
      "pygments_lexer": "ipython3",
      "version": "3.6.10"
    }
  },
  "cells": [
    {
      "cell_type": "markdown",
      "metadata": {
        "id": "view-in-github",
        "colab_type": "text"
      },
      "source": [
        "<a href=\"https://colab.research.google.com/github/tomheyden/Assignment-2/blob/main/Kopie_von_Assignment2_ATIT22.ipynb\" target=\"_parent\"><img src=\"https://colab.research.google.com/assets/colab-badge.svg\" alt=\"Open In Colab\"/></a>"
      ]
    },
    {
      "cell_type": "markdown",
      "metadata": {
        "id": "jZ_cxSNSKNZy"
      },
      "source": [
        "# Assignment 2\n",
        "Group assignment with groups of 5 people. (30 points in total)\n",
        "\n",
        "This assignment will focus on multi class classifaction problems.\n",
        "There are three different techniques which should be applied:\n",
        "\n",
        "*   Softmax Regression (Multi-Class Logist Regression)\n",
        "*   Decision Tree Classifier\n",
        "*   KNN Classifier (& Logistic Regression)\n",
        "\n",
        "\n",
        "\n",
        "\n",
        "\n",
        "---\n",
        "\n",
        "\n"
      ]
    },
    {
      "cell_type": "markdown",
      "metadata": {
        "id": "80klRBfiLAsx"
      },
      "source": [
        "## Part 1: Softmax Regression\n",
        "\n",
        "(5 points)\n",
        "\n",
        "Your task is to train a softmax regression model on the MNIST dataset to classify images of handwritten digits from 0 to 9.\n"
      ]
    },
    {
      "cell_type": "code",
      "metadata": {
        "id": "l_3HJX8NJgOK"
      },
      "source": [
        "# load required libraries\n",
        "from sklearn.datasets import fetch_openml\n",
        "from sklearn.preprocessing import MinMaxScaler\n",
        "from sklearn.model_selection import train_test_split\n",
        "from sklearn.linear_model import LogisticRegression\n",
        "from sklearn.metrics import accuracy_score, confusion_matrix\n",
        "import pandas as pd\n",
        "import numpy as np\n",
        "import matplotlib.pyplot as plt"
      ],
      "execution_count": 1,
      "outputs": []
    },
    {
      "cell_type": "markdown",
      "metadata": {
        "id": "17fp1eGMNem1"
      },
      "source": [
        "The task will be to perform classification on handwritten digits from 0 to 9 (MNIST dataset)."
      ]
    },
    {
      "cell_type": "code",
      "metadata": {
        "id": "oy1EnttQLwbt"
      },
      "source": [
        "# download dataset from https://www.openml.org/ which contains many sample datasets for machine learning\n",
        "X, y = fetch_openml('mnist_784', version=1, return_X_y=True)"
      ],
      "execution_count": 2,
      "outputs": []
    },
    {
      "cell_type": "markdown",
      "metadata": {
        "id": "ypnZn2uKOFME"
      },
      "source": [
        "The dataset contains 70000 examples of which each example has 784 values (pixels). These pixels are in a flat array but represent a 28 by 28 pixel gray-scale image. Values range from 0 to 255 which is common in the RGB value range. A value of 0 represents a black pixel whereas 255 represents a white pixel. Different shades of gray are any value larger than 0 but smaller than 255."
      ]
    },
    {
      "cell_type": "markdown",
      "metadata": {
        "id": "_SY3LIc6PyoC"
      },
      "source": [
        "### Data exploration"
      ]
    },
    {
      "cell_type": "markdown",
      "metadata": {
        "id": "kSKanQQ47PIO"
      },
      "source": [
        "Look at some examples of handwritten digits in the dataset to familiarize yourself with the data you want to train the model on."
      ]
    },
    {
      "cell_type": "code",
      "metadata": {
        "id": "MoX0Iwn3M1lY",
        "outputId": "a40060a9-6a10-4bc9-cffe-da0e67e1975b",
        "colab": {
          "base_uri": "https://localhost:8080/",
          "height": 125
        }
      },
      "source": [
        "\n",
        "X_reshape = np.array(X).reshape(X.shape[0],28,28,1)\n",
        "\n",
        "f, axes = plt.subplots(1, 10, sharey=True,figsize=(20,20))\n",
        "\n",
        "for i,ax in enumerate(axes.flat):\n",
        "\n",
        "    ax.axis('off')\n",
        "\n",
        "    ax.imshow(X_reshape[i,:,:,0],cmap=\"gray\")"
      ],
      "execution_count": 3,
      "outputs": [
        {
          "output_type": "display_data",
          "data": {
            "text/plain": [
              "<Figure size 1440x1440 with 10 Axes>"
            ],
            "image/png": "[encoded data removed]"
          },
          "metadata": {
            "needs_background": "light"
          }
        }
      ]
    },
    {
      "cell_type": "markdown",
      "metadata": {
        "id": "A9_ekBSEPuWe"
      },
      "source": [
        "### Data preparation"
      ]
    },
    {
      "cell_type": "markdown",
      "metadata": {
        "id": "2GEwEfQjN3u9"
      },
      "source": [
        "Perform a train test split using sklearn.model_selection.train_test_split (as it was done in the previous assignment)."
      ]
    },
    {
      "cell_type": "code",
      "metadata": {
        "id": "qpjdJZ4GNF88"
      },
      "source": [
        "\n",
        "#X = X.to_numpy()\n",
        "#y = y.to_numpy()\n",
        "\n",
        "#X_train, X_test = train_test_split(X, train_size = 0.8, test_size = 0.2, random_state = 100)\n",
        "\n",
        "x_train, x_test, y_train, y_test = X[:60000], X[60000:], y[:60000], y[60000:]\n"
      ],
      "execution_count": 4,
      "outputs": []
    },
    {
      "cell_type": "markdown",
      "metadata": {
        "id": "nNLFnY9uQNTR"
      },
      "source": [
        "Do feature scaling"
      ]
    },
    {
      "cell_type": "code",
      "metadata": {
        "id": "W5UrcopaQNfo",
        "outputId": "aee86c2c-7be6-457d-9df1-e60c0ba8cd84",
        "colab": {
          "base_uri": "https://localhost:8080/"
        }
      },
      "source": [
        "x_train.shape, x_test.shape"
      ],
      "execution_count": 5,
      "outputs": [
        {
          "output_type": "execute_result",
          "data": {
            "text/plain": [
              "((60000, 784), (10000, 784))"
            ]
          },
          "metadata": {},
          "execution_count": 5
        }
      ]
    },
    {
      "cell_type": "markdown",
      "metadata": {
        "id": "ySQYgHy3pOgh"
      },
      "source": [
        "Is feature scaling actually necessary in this case? Please elaborate why or why not:"
      ]
    },
    {
      "cell_type": "markdown",
      "metadata": {
        "id": "JCbXADZepTe1"
      },
      "source": [
        "**--> Your answer here**"
      ]
    },
    {
      "cell_type": "markdown",
      "metadata": {
        "id": "HwBhxSsCP69c"
      },
      "source": [
        "### Training the models\n",
        "\n",
        "Please use LogisticRegression from sklearn.linear_model. When initialising the LogisticRegression model please set the parameter \"multi_class\" to \"multinomial\" to make sure your LogisticRegression model perform a multiclass classification instead of a binary classification. More information here: https://scikit-learn.org/stable/modules/generated/sklearn.linear_model.LogisticRegression.html"
      ]
    },
    {
      "cell_type": "code",
      "metadata": {
        "id": "TJuyyq0nOAvS"
      },
      "source": [
        "logreg = LogisticRegression(fit_intercept=True,\n",
        "                        multi_class='auto')"
      ],
      "execution_count": 6,
      "outputs": []
    },
    {
      "cell_type": "code",
      "source": [
        "%%time\n",
        "logreg.fit(x_train, y_train)"
      ],
      "metadata": {
        "id": "Qi3rKu95F1VF",
        "colab": {
          "base_uri": "https://localhost:8080/"
        },
        "outputId": "51083eff-0976-44e0-8798-221e320fc238"
      },
      "execution_count": 7,
      "outputs": [
        {
          "output_type": "stream",
          "name": "stdout",
          "text": [
            "CPU times: user 1min 18s, sys: 10.3 s, total: 1min 28s\n",
            "Wall time: 54.9 s\n"
          ]
        },
        {
          "output_type": "stream",
          "name": "stderr",
          "text": [
            "/usr/local/lib/python3.7/dist-packages/sklearn/linear_model/_logistic.py:818: ConvergenceWarning: lbfgs failed to converge (status=1):\n",
            "STOP: TOTAL NO. of ITERATIONS REACHED LIMIT.\n",
            "\n",
            "Increase the number of iterations (max_iter) or scale the data as shown in:\n",
            "    https://scikit-learn.org/stable/modules/preprocessing.html\n",
            "Please also refer to the documentation for alternative solver options:\n",
            "    https://scikit-learn.org/stable/modules/linear_model.html#logistic-regression\n",
            "  extra_warning_msg=_LOGISTIC_SOLVER_CONVERGENCE_MSG,\n"
          ]
        },
        {
          "output_type": "execute_result",
          "data": {
            "text/plain": [
              "LogisticRegression()"
            ]
          },
          "metadata": {},
          "execution_count": 7
        }
      ]
    },
    {
      "cell_type": "markdown",
      "metadata": {
        "id": "9-2ST4d1P-nF"
      },
      "source": [
        "### Evaluating model performance\n",
        "\n",
        "Please analyze the model accuracy and plot the confusion matrix."
      ]
    },
    {
      "cell_type": "code",
      "metadata": {
        "id": "1Dvb6U9rQBgD",
        "outputId": "ae03e115-f7ed-4da3-ab97-ba91f8701971",
        "colab": {
          "base_uri": "https://localhost:8080/"
        }
      },
      "source": [
        "logreg.predict(x_test[0:10])\n",
        "\n",
        "predictions = logreg.predict(x_test)\n",
        "predictions.shape"
      ],
      "execution_count": 9,
      "outputs": [
        {
          "output_type": "execute_result",
          "data": {
            "text/plain": [
              "(10000,)"
            ]
          },
          "metadata": {},
          "execution_count": 9
        }
      ]
    },
    {
      "cell_type": "code",
      "source": [
        "score = logreg.score(x_test, y_test)\n",
        "score"
      ],
      "metadata": {
        "id": "DAgT5TA3FJse",
        "outputId": "86349fbb-d74c-4a6e-fe48-64a70ed53f02",
        "colab": {
          "base_uri": "https://localhost:8080/"
        }
      },
      "execution_count": 10,
      "outputs": [
        {
          "output_type": "execute_result",
          "data": {
            "text/plain": [
              "0.9255"
            ]
          },
          "metadata": {},
          "execution_count": 10
        }
      ]
    },
    {
      "cell_type": "code",
      "source": [
        "from sklearn import metrics\n",
        "#confusion matrix\n",
        "\n",
        "confusion = metrics.confusion_matrix(y_test, predictions)\n",
        "print(\"Confusion Matrix\")\n",
        "print(confusion)\n",
        "\n",
        "plt.figure()\n",
        "#lot_confusion_matrix(confusion);\n",
        "plt.show();\n",
        "\n",
        "cm = confusion_matrix(y_test, predictions)\n",
        "\n",
        "plt.imshow(cm)\n"
      ],
      "metadata": {
        "id": "L2RmfOPOGH13",
        "outputId": "b90d23ac-1f92-4dc1-a646-33d15b96f566",
        "colab": {
          "base_uri": "https://localhost:8080/",
          "height": 486
        }
      },
      "execution_count": 11,
      "outputs": [
        {
          "output_type": "stream",
          "name": "stdout",
          "text": [
            "Confusion Matrix\n",
            "[[ 963    0    0    3    1    3    4    4    2    0]\n",
            " [   0 1112    4    2    0    1    3    2   11    0]\n",
            " [   3   10  926   15    6    4   15    8   42    3]\n",
            " [   4    1   21  916    1   26    3    9   22    7]\n",
            " [   1    1    7    3  910    0    9    7   10   34]\n",
            " [  11    2    1   33   11  776   11    6   35    6]\n",
            " [   9    3    7    3    7   16  910    2    1    0]\n",
            " [   1    6   24    5    7    1    0  951    3   30]\n",
            " [   8    7    6   23    6   26   10   10  869    9]\n",
            " [   9    7    0   11   25    6    0   22    7  922]]\n"
          ]
        },
        {
          "output_type": "display_data",
          "data": {
            "text/plain": [
              "<Figure size 432x288 with 0 Axes>"
            ]
          },
          "metadata": {}
        },
        {
          "output_type": "execute_result",
          "data": {
            "text/plain": [
              "<matplotlib.image.AxesImage at 0x7f7e679a79d0>"
            ]
          },
          "metadata": {},
          "execution_count": 11
        },
        {
          "output_type": "display_data",
          "data": {
            "text/plain": [
              "<Figure size 432x288 with 1 Axes>"
            ],
            "image/png": "[encoded data removed]"
          },
          "metadata": {
            "needs_background": "light"
          }
        }
      ]
    },
    {
      "cell_type": "markdown",
      "metadata": {
        "id": "WB3aYs2PhjPw"
      },
      "source": [
        "Based on the confusion matrix, where do you expect the model to make good decisions? Where is the classification shaky?"
      ]
    },
    {
      "cell_type": "markdown",
      "metadata": {
        "id": "yqWAy47ihxFL"
      },
      "source": [
        "**---> Your answer here**\n"
      ]
    },
    {
      "cell_type": "markdown",
      "metadata": {
        "id": "EpgLYAcphX9n"
      },
      "source": [
        "### Visualizing what the model has learned\n",
        "\n",
        "Use the following code to visualize the coefficients the trained model has learned.\n",
        "You simply need to replace the <<model>> placeholder with the variable name of your trained model."
      ]
    },
    {
      "cell_type": "code",
      "metadata": {
        "id": "IRkED_wthze2",
        "outputId": "8efcf48c-c471-46d9-f8e0-6f03c987b122",
        "colab": {
          "base_uri": "https://localhost:8080/",
          "height": 351
        }
      },
      "source": [
        "coef = x_test.coef_.copy()\n",
        "scale = np.abs(coef).max()\n",
        "plt.figure(figsize=(13,7))\n",
        "\n",
        "for i in range(10): # 0-9\n",
        "    coef_plot = plt.subplot(2, 5, i + 1) # 2x5 plot\n",
        "\n",
        "    coef_plot.imshow(coef[i].reshape(28,28), \n",
        "                     cmap=plt.cm.RdBu,\n",
        "                     vmin=-scale, vmax=scale,\n",
        "                    interpolation='bilinear')\n",
        "    \n",
        "    coef_plot.set_xticks(()); coef_plot.set_yticks(())\n",
        "    coef_plot.set_xlabel(f'Class {i}')\n",
        "\n",
        "plt.suptitle('Coefficients for various classes')"
      ],
      "execution_count": null,
      "outputs": [
        {
          "output_type": "error",
          "ename": "AttributeError",
          "evalue": "ignored",
          "traceback": [
            "\u001b[0;31m---------------------------------------------------------------------------\u001b[0m",
            "\u001b[0;31mAttributeError\u001b[0m                            Traceback (most recent call last)",
            "\u001b[0;32m<ipython-input-8-54d4464709f8>\u001b[0m in \u001b[0;36m<module>\u001b[0;34m\u001b[0m\n\u001b[0;32m----> 1\u001b[0;31m \u001b[0mcoef\u001b[0m \u001b[0;34m=\u001b[0m \u001b[0mx_test\u001b[0m\u001b[0;34m.\u001b[0m\u001b[0mcoef_\u001b[0m\u001b[0;34m.\u001b[0m\u001b[0mcopy\u001b[0m\u001b[0;34m(\u001b[0m\u001b[0;34m)\u001b[0m\u001b[0;34m\u001b[0m\u001b[0;34m\u001b[0m\u001b[0m\n\u001b[0m\u001b[1;32m      2\u001b[0m \u001b[0mscale\u001b[0m \u001b[0;34m=\u001b[0m \u001b[0mnp\u001b[0m\u001b[0;34m.\u001b[0m\u001b[0mabs\u001b[0m\u001b[0;34m(\u001b[0m\u001b[0mcoef\u001b[0m\u001b[0;34m)\u001b[0m\u001b[0;34m.\u001b[0m\u001b[0mmax\u001b[0m\u001b[0;34m(\u001b[0m\u001b[0;34m)\u001b[0m\u001b[0;34m\u001b[0m\u001b[0;34m\u001b[0m\u001b[0m\n\u001b[1;32m      3\u001b[0m \u001b[0mplt\u001b[0m\u001b[0;34m.\u001b[0m\u001b[0mfigure\u001b[0m\u001b[0;34m(\u001b[0m\u001b[0mfigsize\u001b[0m\u001b[0;34m=\u001b[0m\u001b[0;34m(\u001b[0m\u001b[0;36m13\u001b[0m\u001b[0;34m,\u001b[0m\u001b[0;36m7\u001b[0m\u001b[0;34m)\u001b[0m\u001b[0;34m)\u001b[0m\u001b[0;34m\u001b[0m\u001b[0;34m\u001b[0m\u001b[0m\n\u001b[1;32m      4\u001b[0m \u001b[0;34m\u001b[0m\u001b[0m\n\u001b[1;32m      5\u001b[0m \u001b[0;32mfor\u001b[0m \u001b[0mi\u001b[0m \u001b[0;32min\u001b[0m \u001b[0mrange\u001b[0m\u001b[0;34m(\u001b[0m\u001b[0;36m10\u001b[0m\u001b[0;34m)\u001b[0m\u001b[0;34m:\u001b[0m \u001b[0;31m# 0-9\u001b[0m\u001b[0;34m\u001b[0m\u001b[0;34m\u001b[0m\u001b[0m\n",
            "\u001b[0;32m/usr/local/lib/python3.7/dist-packages/pandas/core/generic.py\u001b[0m in \u001b[0;36m__getattr__\u001b[0;34m(self, name)\u001b[0m\n\u001b[1;32m   5485\u001b[0m         ):\n\u001b[1;32m   5486\u001b[0m             \u001b[0;32mreturn\u001b[0m \u001b[0mself\u001b[0m\u001b[0;34m[\u001b[0m\u001b[0mname\u001b[0m\u001b[0;34m]\u001b[0m\u001b[0;34m\u001b[0m\u001b[0;34m\u001b[0m\u001b[0m\n\u001b[0;32m-> 5487\u001b[0;31m         \u001b[0;32mreturn\u001b[0m \u001b[0mobject\u001b[0m\u001b[0;34m.\u001b[0m\u001b[0m__getattribute__\u001b[0m\u001b[0;34m(\u001b[0m\u001b[0mself\u001b[0m\u001b[0;34m,\u001b[0m \u001b[0mname\u001b[0m\u001b[0;34m)\u001b[0m\u001b[0;34m\u001b[0m\u001b[0;34m\u001b[0m\u001b[0m\n\u001b[0m\u001b[1;32m   5488\u001b[0m \u001b[0;34m\u001b[0m\u001b[0m\n\u001b[1;32m   5489\u001b[0m     \u001b[0;32mdef\u001b[0m \u001b[0m__setattr__\u001b[0m\u001b[0;34m(\u001b[0m\u001b[0mself\u001b[0m\u001b[0;34m,\u001b[0m \u001b[0mname\u001b[0m\u001b[0;34m:\u001b[0m \u001b[0mstr\u001b[0m\u001b[0;34m,\u001b[0m \u001b[0mvalue\u001b[0m\u001b[0;34m)\u001b[0m \u001b[0;34m->\u001b[0m \u001b[0;32mNone\u001b[0m\u001b[0;34m:\u001b[0m\u001b[0;34m\u001b[0m\u001b[0;34m\u001b[0m\u001b[0m\n",
            "\u001b[0;31mAttributeError\u001b[0m: 'DataFrame' object has no attribute 'coef_'"
          ]
        }
      ]
    },
    {
      "cell_type": "markdown",
      "metadata": {
        "id": "8t1hGDICjNsT"
      },
      "source": [
        "Try to explain briefly what the coefficients tell you about how the model differentiate the different classes."
      ]
    },
    {
      "cell_type": "markdown",
      "metadata": {
        "id": "tXnOxjY6jbAH"
      },
      "source": [
        "**--> your answer here**\n"
      ]
    },
    {
      "cell_type": "markdown",
      "metadata": {
        "id": "ztHRoT9qY896"
      },
      "source": [
        "Plot some examples of missclassified numbers."
      ]
    },
    {
      "cell_type": "code",
      "metadata": {
        "id": "hfldkBI5Y896"
      },
      "source": [],
      "execution_count": null,
      "outputs": []
    },
    {
      "cell_type": "markdown",
      "metadata": {
        "id": "7fDSuPFGTUIP"
      },
      "source": [
        "\n",
        "\n",
        "---\n",
        "\n",
        "\n",
        "\n",
        "## Part 2: Decission Tree Classifier\n",
        "\n",
        "(5 points)\n",
        "\n",
        "Your task is to train a decision tree classifier on the heart disease dataset from the UCI Machine Learning repository [https://archive.ics.uci.edu/ml/datasets/abalone. ](https://archive.ics.uci.edu/ml/datasets/heart+disease)\n",
        "\n",
        "Your task is to decide if a person has a heart disease based on some other attributes.\n",
        "Target class has two vales:\n",
        "- 0 : no heart disease (healthy)\n",
        "- 1 : heart disease\n",
        "\n"
      ]
    },
    {
      "cell_type": "code",
      "metadata": {
        "id": "VCbUUPcwTcmZ"
      },
      "source": [
        "# load required libraries\n",
        "from sklearn.tree import DecisionTreeClassifier, plot_tree\n",
        "from sklearn.metrics import accuracy_score\n",
        "import pandas as pd\n",
        "import numpy as np\n",
        "import matplotlib.pyplot as plt\n",
        "# download data set\n",
        "dtdf = pd.read_csv('https://github.com/schneiderson/ATIT2-21/raw/master/sample_data/heart.csv', sep=\",\")\n",
        "X=dtdf.iloc[:,:-1]\n",
        "y=dtdf.iloc[:, -1].values.reshape(-1)"
      ],
      "execution_count": null,
      "outputs": []
    },
    {
      "cell_type": "markdown",
      "metadata": {
        "id": "_je2b8RRTZo5"
      },
      "source": [
        "### Data exploration"
      ]
    },
    {
      "cell_type": "markdown",
      "metadata": {
        "id": "ytuUT8RyTtGe"
      },
      "source": [
        "Familiarize yourself with the dataset. Look at the different features available for making a classification decision. "
      ]
    },
    {
      "cell_type": "code",
      "metadata": {
        "id": "S7o4GL51TsYO"
      },
      "source": [],
      "execution_count": null,
      "outputs": []
    },
    {
      "cell_type": "markdown",
      "metadata": {
        "id": "YFqq_ydGVRBW"
      },
      "source": [
        "### Data preparation"
      ]
    },
    {
      "cell_type": "markdown",
      "metadata": {
        "id": "E4aN_Z116qhk"
      },
      "source": [
        "Perform a train test split using sklearn.model_selection.train_test_split (as it was done in the previous assignment).\n",
        "Since the dataset doesn't cotain that many instances, leave 40% of the data as a test set and 60% for the training set."
      ]
    },
    {
      "cell_type": "code",
      "metadata": {
        "id": "lRzQF8ulTW4N"
      },
      "source": [],
      "execution_count": null,
      "outputs": []
    },
    {
      "cell_type": "markdown",
      "metadata": {
        "id": "rkGfeqwIzrhr"
      },
      "source": [
        "Do feature scaling"
      ]
    },
    {
      "cell_type": "code",
      "metadata": {
        "id": "zL90xNQzzusv"
      },
      "source": [],
      "execution_count": null,
      "outputs": []
    },
    {
      "cell_type": "markdown",
      "metadata": {
        "id": "7ypSNWdWzzGT"
      },
      "source": [
        "Is feature scaling actually necessary in this case? Please elaborate why or why not:"
      ]
    },
    {
      "cell_type": "markdown",
      "metadata": {
        "id": "bEmw4VDhz1On"
      },
      "source": [
        "**--> your answer here**"
      ]
    },
    {
      "cell_type": "markdown",
      "metadata": {
        "id": "KrH__FlbVUG3"
      },
      "source": [
        "### Training the model\n",
        "\n",
        "\n",
        "Train the decision tree model on your training data. Use the DecisionTreeClassifier class from the sklearn.tree package."
      ]
    },
    {
      "cell_type": "code",
      "metadata": {
        "id": "jLSw3qmKVWz1"
      },
      "source": [],
      "execution_count": null,
      "outputs": []
    },
    {
      "cell_type": "markdown",
      "metadata": {
        "id": "eRhAdlSwVXYD"
      },
      "source": [
        "### Evaluating model performance\n",
        "\n",
        "Please evaluate the model performance based on its accuracy score and the confusion matrix on the test-set."
      ]
    },
    {
      "cell_type": "code",
      "metadata": {
        "id": "pFtDOxot86Al"
      },
      "source": [],
      "execution_count": null,
      "outputs": []
    },
    {
      "cell_type": "markdown",
      "metadata": {
        "id": "rhxz0ucn867C"
      },
      "source": [
        "### Visualizing the decision tree\n",
        "\n",
        "To learn how to plot a trained decision tree, please refer to the notebook https://github.com/schneiderson/ATIT2-21/blob/master/intro/DecisionTreeClassifierExample.ipynb."
      ]
    },
    {
      "cell_type": "markdown",
      "metadata": {
        "id": "c6Kxjtj99GcR"
      },
      "source": [
        "### Regularization\n",
        "\n",
        "Use the \"max_depth\" parameter, train the decision tree for values [1, 3, 5, 7] and plot the corresponding training and test accuracies.\n",
        "\n",
        "Afterwards, use the \"max_leaf_nodes\" parameter (not using the \"max_depth\" parameter) for the values of [2, 4, 10] and plot the corresponding training and test accuracies."
      ]
    },
    {
      "cell_type": "code",
      "metadata": {
        "id": "KMGzAPEK8-uO"
      },
      "source": [],
      "execution_count": null,
      "outputs": []
    },
    {
      "cell_type": "markdown",
      "metadata": {
        "id": "rrx_fQxgTXfT"
      },
      "source": [
        "\n",
        "\n",
        "---\n",
        "\n",
        "\n",
        "## Part 3: KNN Classifier\n",
        "\n",
        "(20 Points)\n",
        "\n",
        "### Adult income dataset\n",
        "\n",
        "This data was extracted from the 1994 Census bureau database by Ronny Kohavi and Barry Becker (Data Mining and Visualization, Silicon Graphics). The prediction task is to determine whether a person makes over $50K a year.\n",
        "\n",
        "More information about the dataset can be found here: http://www.cs.toronto.edu/~delve/data/adult/adultDetail.html \n"
      ]
    },
    {
      "cell_type": "code",
      "metadata": {
        "id": "nsz4WTMbTZCt"
      },
      "source": [
        "# import required libraries\n",
        "from sklearn.neighbors import KNeighborsClassifier\n",
        "from sklearn.metrics import accuracy_score, plot_roc_curve, roc_curve, roc_auc_score, confusion_matrix\n",
        "\n",
        "import pandas as pd\n",
        "import numpy as np\n",
        "import matplotlib.pyplot as plt\n",
        "\n",
        "dtdf = pd.read_csv('https://raw.githubusercontent.com/schneiderson/ATIT2-22/main/sample_data/adult.csv', sep=\",\")\n",
        "X=dtdf.iloc[:,:-1]\n",
        "y=dtdf.iloc[:, -1].values.reshape(-1)"
      ],
      "execution_count": null,
      "outputs": []
    },
    {
      "cell_type": "markdown",
      "metadata": {
        "id": "faEk8welVc0S"
      },
      "source": [
        "### Data Exploration\n",
        "\n",
        "Familiarize yourself with the dataset. Take a look at the class distribution."
      ]
    },
    {
      "cell_type": "code",
      "metadata": {
        "id": "_1Fey-ioT2xY"
      },
      "source": [],
      "execution_count": null,
      "outputs": []
    },
    {
      "cell_type": "markdown",
      "metadata": {
        "id": "8dnYEdTcY898"
      },
      "source": [
        "Do some features have strange values?\n",
        "If yes, could it be problematic during training and how could you deal with those values?"
      ]
    },
    {
      "cell_type": "markdown",
      "metadata": {
        "id": "dYMF7nZCY898"
      },
      "source": [
        "**--> your answer here**"
      ]
    },
    {
      "cell_type": "markdown",
      "metadata": {
        "id": "O2bkh7aNVerB"
      },
      "source": [
        "### Data preparation"
      ]
    },
    {
      "cell_type": "markdown",
      "source": [
        "Do label encooding on the target variable and on independent variables."
      ],
      "metadata": {
        "id": "4cb5k8tLmunR"
      }
    },
    {
      "cell_type": "code",
      "source": [],
      "metadata": {
        "id": "BiWp8x5Dmu2m"
      },
      "execution_count": null,
      "outputs": []
    },
    {
      "cell_type": "markdown",
      "metadata": {
        "id": "Bmd2YYiH60mT"
      },
      "source": [
        "Perform a train test split using sklearn.model_selection.train_test_split (as it was done in the previous assignment). Leave 20% of the data as a test set and 80% for the training set."
      ]
    },
    {
      "cell_type": "code",
      "metadata": {
        "id": "THVs3vWuVhZJ"
      },
      "source": [],
      "execution_count": null,
      "outputs": []
    },
    {
      "cell_type": "markdown",
      "metadata": {
        "id": "zIqJaI4W62Ze"
      },
      "source": [
        "Do feature scaling"
      ]
    },
    {
      "cell_type": "code",
      "metadata": {
        "id": "hVbZ_UCX62x4"
      },
      "source": [],
      "execution_count": null,
      "outputs": []
    },
    {
      "cell_type": "markdown",
      "metadata": {
        "id": "USO2QrjYCgwc"
      },
      "source": [
        "Is feature scaling actually necessary in this case? Please elaborate why or why not:"
      ]
    },
    {
      "cell_type": "markdown",
      "metadata": {
        "id": "PydOdInPCh7B"
      },
      "source": [
        "**--> your answer here**"
      ]
    },
    {
      "cell_type": "markdown",
      "metadata": {
        "id": "h1Wj8f_5ViBL"
      },
      "source": [
        "### Training the model"
      ]
    },
    {
      "cell_type": "code",
      "metadata": {
        "id": "pfb1w-tNVkbt"
      },
      "source": [],
      "execution_count": null,
      "outputs": []
    },
    {
      "cell_type": "markdown",
      "metadata": {
        "id": "Q81i2GaAVle4"
      },
      "source": [
        "### Evaluating model performance\n",
        "\n",
        "Evaluate the model performance using the classification accuracy. Also plot the confusion matrix."
      ]
    },
    {
      "cell_type": "code",
      "metadata": {
        "id": "hbiELO2XVnx5"
      },
      "source": [],
      "execution_count": null,
      "outputs": []
    },
    {
      "cell_type": "markdown",
      "metadata": {
        "id": "lMCgtvf4JivU"
      },
      "source": [
        "### Regularization\n",
        "\n",
        "Train the KNN model with different values for K [1, 3, 5, 8, 10].\n",
        "Compare and plot the training and test accuracy of the KNN classifier for each value of k."
      ]
    },
    {
      "cell_type": "code",
      "source": [],
      "metadata": {
        "id": "h4b-J5MjpVem"
      },
      "execution_count": null,
      "outputs": []
    },
    {
      "cell_type": "markdown",
      "source": [
        "Pick the model K which achieved the highest accuracy. Use the plot_roc_curve function to plot the ROC curve for the model with value K which achieved the highest accuracy."
      ],
      "metadata": {
        "id": "XPGpu1rgofwt"
      }
    },
    {
      "cell_type": "code",
      "metadata": {
        "id": "re0BrD3OJxdH"
      },
      "source": [],
      "execution_count": null,
      "outputs": []
    },
    {
      "cell_type": "markdown",
      "source": [
        "---"
      ],
      "metadata": {
        "id": "41Cx32QQnACL"
      }
    },
    {
      "cell_type": "markdown",
      "source": [
        "### Train a logistic regression model on the same dataset and compare the performance "
      ],
      "metadata": {
        "id": "wVLx5uuRnFkd"
      }
    },
    {
      "cell_type": "markdown",
      "source": [
        "In the previous assignment you have used a logistic regression model for classification. Try to train a logistic regression model on current dataset and compare the performance with the KNN classifier."
      ],
      "metadata": {
        "id": "JPMEmb04pgcW"
      }
    },
    {
      "cell_type": "code",
      "source": [],
      "metadata": {
        "id": "FmxmmzC-nBBd"
      },
      "execution_count": null,
      "outputs": []
    },
    {
      "cell_type": "markdown",
      "source": [
        "Create accuracy score, confusion matrix and ROC curve for the logistic regression classifier. Compare the metrics with the metrics of the KNN model."
      ],
      "metadata": {
        "id": "CROVGUgkoniQ"
      }
    },
    {
      "cell_type": "code",
      "source": [],
      "metadata": {
        "id": "6jhry5KVpW_Z"
      },
      "execution_count": null,
      "outputs": []
    }
  ]
}